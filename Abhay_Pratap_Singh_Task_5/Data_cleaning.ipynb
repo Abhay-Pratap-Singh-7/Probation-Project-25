{
 "cells": [
  {
   "cell_type": "code",
   "execution_count": 1,
   "id": "c23e23fd-43dd-42bf-9e5e-a02f27f2ed97",
   "metadata": {},
   "outputs": [],
   "source": [
    "import pandas as pd"
   ]
  },
  {
   "cell_type": "code",
   "execution_count": 2,
   "id": "0a7e6497-36e8-40ce-8dfc-b07853484640",
   "metadata": {},
   "outputs": [],
   "source": [
    "df = pd.read_csv('DataClean.csv')"
   ]
  },
  {
   "cell_type": "code",
   "execution_count": 3,
   "id": "934c6802-12bc-4bf8-ac10-b935069d7655",
   "metadata": {},
   "outputs": [
    {
     "name": "stdout",
     "output_type": "stream",
     "text": [
      "          Status Age Group    Education    Industry   Location   AI Risk  \\\n",
      "0       EMPLOYED     25_34  high school  Technology      Urban       NaN   \n",
      "1       EMPLOYED     18-24      Diploma     Fintech      rural  moderate   \n",
      "2       EMPLOYED     25_34  High School      Retail      Delhi       Low   \n",
      "3     UNEMPLOYED     18-24      Masters      Retail      Urban       Low   \n",
      "4            NaN     45-54      Diploma     Fintech  Hyderabad       low   \n",
      "...          ...       ...          ...         ...        ...       ...   \n",
      "1995    employed     25-34         Ph.D     Finance  Hyderabad       Low   \n",
      "1996    EMPLOYED     25-34          PhD       Tech         NaN       NaN   \n",
      "1997         NaN   35 - 44      Masters   Education        NaN       low   \n",
      "1998    EMPLOYED     25_34  high school      Retail     Mumbai      HIGH   \n",
      "1999  UNEMPLOYED     25_34  High School         NaN        NaN  moderate   \n",
      "\n",
      "      Years of Experience  Monthly Salary (INR) Date Recorded  \n",
      "0                     NaN               40700.0    01-01-2023  \n",
      "1                     NaN               17500.0    01-02-2023  \n",
      "2                    16.0               77600.0    01-03-2023  \n",
      "3                    30.0              100200.0    01-04-2023  \n",
      "4                     9.0               19500.0    01-05-2023  \n",
      "...                   ...                   ...           ...  \n",
      "1995                  NaN              113000.0     6/18/2028  \n",
      "1996                 22.0              102200.0     6/19/2028  \n",
      "1997                  NaN               31600.0     6/20/2028  \n",
      "1998                 22.0               92500.0     6/21/2028  \n",
      "1999                  NaN               43300.0     6/22/2028  \n",
      "\n",
      "[2000 rows x 9 columns]\n"
     ]
    }
   ],
   "source": [
    "print(df)"
   ]
  },
  {
   "cell_type": "code",
   "execution_count": 4,
   "id": "c070363d-38d3-4336-897c-f73a80289950",
   "metadata": {},
   "outputs": [
    {
     "data": {
      "text/plain": [
       "Index(['status', 'age group', 'education', 'industry', 'location', 'ai risk',\n",
       "       'years of experience', 'monthly salary (inr)', 'date recorded'],\n",
       "      dtype='object')"
      ]
     },
     "execution_count": 4,
     "metadata": {},
     "output_type": "execute_result"
    }
   ],
   "source": [
    "df.columns.str.lower()"
   ]
  },
  {
   "cell_type": "code",
   "execution_count": 5,
   "id": "141d7a82-19c6-4d5c-9b74-c7fa8b3b4131",
   "metadata": {},
   "outputs": [
    {
     "data": {
      "text/plain": [
       "Index(['Status', 'Age_Group', 'Education', 'Industry', 'Location', 'AI_Risk',\n",
       "       'Years_of_Experience', 'Monthly_Salary_(INR)', 'Date_Recorded'],\n",
       "      dtype='object')"
      ]
     },
     "execution_count": 5,
     "metadata": {},
     "output_type": "execute_result"
    }
   ],
   "source": [
    "df.columns.str.replace(' ','_')"
   ]
  },
  {
   "cell_type": "code",
   "execution_count": 6,
   "id": "a175dfd8-89c4-4510-bf91-722f77b45459",
   "metadata": {},
   "outputs": [],
   "source": [
    "df.columns = df.columns.str.lower().str.replace(' ','_')"
   ]
  },
  {
   "cell_type": "code",
   "execution_count": 7,
   "id": "c8551c9b-ff81-4f21-a237-1e70ed2b4d83",
   "metadata": {},
   "outputs": [
    {
     "name": "stdout",
     "output_type": "stream",
     "text": [
      "Index(['status', 'age_group', 'education', 'industry', 'location', 'ai_risk',\n",
      "       'years_of_experience', 'monthly_salary_(inr)', 'date_recorded'],\n",
      "      dtype='object')\n"
     ]
    }
   ],
   "source": [
    "print(df.columns)"
   ]
  },
  {
   "cell_type": "code",
   "execution_count": 12,
   "id": "ddbe399b-b050-4c31-b7cd-5756ddf86e75",
   "metadata": {},
   "outputs": [
    {
     "data": {
      "text/plain": [
       "0         1\n",
       "1         1\n",
       "2         1\n",
       "3         0\n",
       "4       NaN\n",
       "       ... \n",
       "1995      1\n",
       "1996      1\n",
       "1997    NaN\n",
       "1998      1\n",
       "1999      0\n",
       "Name: status, Length: 2000, dtype: object"
      ]
     },
     "execution_count": 12,
     "metadata": {},
     "output_type": "execute_result"
    }
   ],
   "source": [
    "df['status'] = df['status'].str.lower().str.replace('employed','1').str.replace('un1','0')\n",
    "df['status']"
   ]
  },
  {
   "cell_type": "code",
   "execution_count": 13,
   "id": "accde049-77b4-4183-8fb1-6a2115f00ae9",
   "metadata": {},
   "outputs": [
    {
     "data": {
      "text/plain": [
       "array(['25_34', '18-24', '45-54', '35 - 44', '55+', '25-34', '18 to 24',\n",
       "       nan], dtype=object)"
      ]
     },
     "execution_count": 13,
     "metadata": {},
     "output_type": "execute_result"
    }
   ],
   "source": [
    "df['age_group'].unique()"
   ]
  },
  {
   "cell_type": "code",
   "execution_count": 14,
   "id": "2a9e89b9-02a6-4368-80cf-5fa762a53a93",
   "metadata": {},
   "outputs": [
    {
     "data": {
      "text/html": [
       "<div>\n",
       "<style scoped>\n",
       "    .dataframe tbody tr th:only-of-type {\n",
       "        vertical-align: middle;\n",
       "    }\n",
       "\n",
       "    .dataframe tbody tr th {\n",
       "        vertical-align: top;\n",
       "    }\n",
       "\n",
       "    .dataframe thead th {\n",
       "        text-align: right;\n",
       "    }\n",
       "</style>\n",
       "<table border=\"1\" class=\"dataframe\">\n",
       "  <thead>\n",
       "    <tr style=\"text-align: right;\">\n",
       "      <th></th>\n",
       "      <th>status</th>\n",
       "      <th>age_group</th>\n",
       "      <th>education</th>\n",
       "      <th>industry</th>\n",
       "      <th>location</th>\n",
       "      <th>ai_risk</th>\n",
       "      <th>years_of_experience</th>\n",
       "      <th>monthly_salary_(inr)</th>\n",
       "      <th>date_recorded</th>\n",
       "    </tr>\n",
       "  </thead>\n",
       "  <tbody>\n",
       "    <tr>\n",
       "      <th>0</th>\n",
       "      <td>1</td>\n",
       "      <td>25-34</td>\n",
       "      <td>high school</td>\n",
       "      <td>Technology</td>\n",
       "      <td>Urban</td>\n",
       "      <td>NaN</td>\n",
       "      <td>NaN</td>\n",
       "      <td>40700.0</td>\n",
       "      <td>01-01-2023</td>\n",
       "    </tr>\n",
       "    <tr>\n",
       "      <th>1</th>\n",
       "      <td>1</td>\n",
       "      <td>18-24</td>\n",
       "      <td>Diploma</td>\n",
       "      <td>Fintech</td>\n",
       "      <td>rural</td>\n",
       "      <td>moderate</td>\n",
       "      <td>NaN</td>\n",
       "      <td>17500.0</td>\n",
       "      <td>01-02-2023</td>\n",
       "    </tr>\n",
       "    <tr>\n",
       "      <th>2</th>\n",
       "      <td>1</td>\n",
       "      <td>25-34</td>\n",
       "      <td>High School</td>\n",
       "      <td>Retail</td>\n",
       "      <td>Delhi</td>\n",
       "      <td>Low</td>\n",
       "      <td>16.0</td>\n",
       "      <td>77600.0</td>\n",
       "      <td>01-03-2023</td>\n",
       "    </tr>\n",
       "    <tr>\n",
       "      <th>3</th>\n",
       "      <td>0</td>\n",
       "      <td>18-24</td>\n",
       "      <td>Masters</td>\n",
       "      <td>Retail</td>\n",
       "      <td>Urban</td>\n",
       "      <td>Low</td>\n",
       "      <td>30.0</td>\n",
       "      <td>100200.0</td>\n",
       "      <td>01-04-2023</td>\n",
       "    </tr>\n",
       "    <tr>\n",
       "      <th>4</th>\n",
       "      <td>NaN</td>\n",
       "      <td>45-54</td>\n",
       "      <td>Diploma</td>\n",
       "      <td>Fintech</td>\n",
       "      <td>Hyderabad</td>\n",
       "      <td>low</td>\n",
       "      <td>9.0</td>\n",
       "      <td>19500.0</td>\n",
       "      <td>01-05-2023</td>\n",
       "    </tr>\n",
       "    <tr>\n",
       "      <th>...</th>\n",
       "      <td>...</td>\n",
       "      <td>...</td>\n",
       "      <td>...</td>\n",
       "      <td>...</td>\n",
       "      <td>...</td>\n",
       "      <td>...</td>\n",
       "      <td>...</td>\n",
       "      <td>...</td>\n",
       "      <td>...</td>\n",
       "    </tr>\n",
       "    <tr>\n",
       "      <th>1995</th>\n",
       "      <td>1</td>\n",
       "      <td>25-34</td>\n",
       "      <td>Ph.D</td>\n",
       "      <td>Finance</td>\n",
       "      <td>Hyderabad</td>\n",
       "      <td>Low</td>\n",
       "      <td>NaN</td>\n",
       "      <td>113000.0</td>\n",
       "      <td>6/18/2028</td>\n",
       "    </tr>\n",
       "    <tr>\n",
       "      <th>1996</th>\n",
       "      <td>1</td>\n",
       "      <td>25-34</td>\n",
       "      <td>PhD</td>\n",
       "      <td>Tech</td>\n",
       "      <td>NaN</td>\n",
       "      <td>NaN</td>\n",
       "      <td>22.0</td>\n",
       "      <td>102200.0</td>\n",
       "      <td>6/19/2028</td>\n",
       "    </tr>\n",
       "    <tr>\n",
       "      <th>1997</th>\n",
       "      <td>NaN</td>\n",
       "      <td>35-44</td>\n",
       "      <td>Masters</td>\n",
       "      <td>Education</td>\n",
       "      <td>NaN</td>\n",
       "      <td>low</td>\n",
       "      <td>NaN</td>\n",
       "      <td>31600.0</td>\n",
       "      <td>6/20/2028</td>\n",
       "    </tr>\n",
       "    <tr>\n",
       "      <th>1998</th>\n",
       "      <td>1</td>\n",
       "      <td>25-34</td>\n",
       "      <td>high school</td>\n",
       "      <td>Retail</td>\n",
       "      <td>Mumbai</td>\n",
       "      <td>HIGH</td>\n",
       "      <td>22.0</td>\n",
       "      <td>92500.0</td>\n",
       "      <td>6/21/2028</td>\n",
       "    </tr>\n",
       "    <tr>\n",
       "      <th>1999</th>\n",
       "      <td>0</td>\n",
       "      <td>25-34</td>\n",
       "      <td>High School</td>\n",
       "      <td>NaN</td>\n",
       "      <td>NaN</td>\n",
       "      <td>moderate</td>\n",
       "      <td>NaN</td>\n",
       "      <td>43300.0</td>\n",
       "      <td>6/22/2028</td>\n",
       "    </tr>\n",
       "  </tbody>\n",
       "</table>\n",
       "<p>2000 rows × 9 columns</p>\n",
       "</div>"
      ],
      "text/plain": [
       "     status age_group    education    industry   location   ai_risk  \\\n",
       "0         1     25-34  high school  Technology      Urban       NaN   \n",
       "1         1     18-24      Diploma     Fintech      rural  moderate   \n",
       "2         1     25-34  High School      Retail      Delhi       Low   \n",
       "3         0     18-24      Masters      Retail      Urban       Low   \n",
       "4       NaN     45-54      Diploma     Fintech  Hyderabad       low   \n",
       "...     ...       ...          ...         ...        ...       ...   \n",
       "1995      1     25-34         Ph.D     Finance  Hyderabad       Low   \n",
       "1996      1     25-34          PhD       Tech         NaN       NaN   \n",
       "1997    NaN     35-44      Masters   Education        NaN       low   \n",
       "1998      1     25-34  high school      Retail     Mumbai      HIGH   \n",
       "1999      0     25-34  High School         NaN        NaN  moderate   \n",
       "\n",
       "      years_of_experience  monthly_salary_(inr) date_recorded  \n",
       "0                     NaN               40700.0    01-01-2023  \n",
       "1                     NaN               17500.0    01-02-2023  \n",
       "2                    16.0               77600.0    01-03-2023  \n",
       "3                    30.0              100200.0    01-04-2023  \n",
       "4                     9.0               19500.0    01-05-2023  \n",
       "...                   ...                   ...           ...  \n",
       "1995                  NaN              113000.0     6/18/2028  \n",
       "1996                 22.0              102200.0     6/19/2028  \n",
       "1997                  NaN               31600.0     6/20/2028  \n",
       "1998                 22.0               92500.0     6/21/2028  \n",
       "1999                  NaN               43300.0     6/22/2028  \n",
       "\n",
       "[2000 rows x 9 columns]"
      ]
     },
     "execution_count": 14,
     "metadata": {},
     "output_type": "execute_result"
    }
   ],
   "source": [
    "df['age_group'] = df['age_group'].str.replace('_','-').str.replace(' - ','-').str.replace('+','-100').str.replace(' to ','-')\n",
    "df"
   ]
  },
  {
   "cell_type": "code",
   "execution_count": 15,
   "id": "3ecde6f1-8448-448b-bba5-af7fa72d50b5",
   "metadata": {},
   "outputs": [
    {
     "data": {
      "text/plain": [
       "array(['high school', 'Diploma', 'High School', 'Masters', 'PhD',\n",
       "       'Master', 'Ph.D', 'Bachelors', nan, \"Bachelor's\"], dtype=object)"
      ]
     },
     "execution_count": 15,
     "metadata": {},
     "output_type": "execute_result"
    }
   ],
   "source": [
    "df['education'].unique()"
   ]
  },
  {
   "cell_type": "code",
   "execution_count": 16,
   "id": "686ab705-eac6-4e54-8e40-899e561f493c",
   "metadata": {},
   "outputs": [
    {
     "data": {
      "text/html": [
       "<div>\n",
       "<style scoped>\n",
       "    .dataframe tbody tr th:only-of-type {\n",
       "        vertical-align: middle;\n",
       "    }\n",
       "\n",
       "    .dataframe tbody tr th {\n",
       "        vertical-align: top;\n",
       "    }\n",
       "\n",
       "    .dataframe thead th {\n",
       "        text-align: right;\n",
       "    }\n",
       "</style>\n",
       "<table border=\"1\" class=\"dataframe\">\n",
       "  <thead>\n",
       "    <tr style=\"text-align: right;\">\n",
       "      <th></th>\n",
       "      <th>status</th>\n",
       "      <th>age_group</th>\n",
       "      <th>education</th>\n",
       "      <th>industry</th>\n",
       "      <th>location</th>\n",
       "      <th>ai_risk</th>\n",
       "      <th>years_of_experience</th>\n",
       "      <th>monthly_salary_(inr)</th>\n",
       "      <th>date_recorded</th>\n",
       "    </tr>\n",
       "  </thead>\n",
       "  <tbody>\n",
       "    <tr>\n",
       "      <th>0</th>\n",
       "      <td>1</td>\n",
       "      <td>25-34</td>\n",
       "      <td>high school</td>\n",
       "      <td>Technology</td>\n",
       "      <td>Urban</td>\n",
       "      <td>NaN</td>\n",
       "      <td>NaN</td>\n",
       "      <td>40700.0</td>\n",
       "      <td>01-01-2023</td>\n",
       "    </tr>\n",
       "    <tr>\n",
       "      <th>1</th>\n",
       "      <td>1</td>\n",
       "      <td>18-24</td>\n",
       "      <td>diploma</td>\n",
       "      <td>Fintech</td>\n",
       "      <td>rural</td>\n",
       "      <td>moderate</td>\n",
       "      <td>NaN</td>\n",
       "      <td>17500.0</td>\n",
       "      <td>01-02-2023</td>\n",
       "    </tr>\n",
       "    <tr>\n",
       "      <th>2</th>\n",
       "      <td>1</td>\n",
       "      <td>25-34</td>\n",
       "      <td>high school</td>\n",
       "      <td>Retail</td>\n",
       "      <td>Delhi</td>\n",
       "      <td>Low</td>\n",
       "      <td>16.0</td>\n",
       "      <td>77600.0</td>\n",
       "      <td>01-03-2023</td>\n",
       "    </tr>\n",
       "    <tr>\n",
       "      <th>3</th>\n",
       "      <td>0</td>\n",
       "      <td>18-24</td>\n",
       "      <td>masters</td>\n",
       "      <td>Retail</td>\n",
       "      <td>Urban</td>\n",
       "      <td>Low</td>\n",
       "      <td>30.0</td>\n",
       "      <td>100200.0</td>\n",
       "      <td>01-04-2023</td>\n",
       "    </tr>\n",
       "    <tr>\n",
       "      <th>4</th>\n",
       "      <td>NaN</td>\n",
       "      <td>45-54</td>\n",
       "      <td>diploma</td>\n",
       "      <td>Fintech</td>\n",
       "      <td>Hyderabad</td>\n",
       "      <td>low</td>\n",
       "      <td>9.0</td>\n",
       "      <td>19500.0</td>\n",
       "      <td>01-05-2023</td>\n",
       "    </tr>\n",
       "    <tr>\n",
       "      <th>...</th>\n",
       "      <td>...</td>\n",
       "      <td>...</td>\n",
       "      <td>...</td>\n",
       "      <td>...</td>\n",
       "      <td>...</td>\n",
       "      <td>...</td>\n",
       "      <td>...</td>\n",
       "      <td>...</td>\n",
       "      <td>...</td>\n",
       "    </tr>\n",
       "    <tr>\n",
       "      <th>1995</th>\n",
       "      <td>1</td>\n",
       "      <td>25-34</td>\n",
       "      <td>ph.d</td>\n",
       "      <td>Finance</td>\n",
       "      <td>Hyderabad</td>\n",
       "      <td>Low</td>\n",
       "      <td>NaN</td>\n",
       "      <td>113000.0</td>\n",
       "      <td>6/18/2028</td>\n",
       "    </tr>\n",
       "    <tr>\n",
       "      <th>1996</th>\n",
       "      <td>1</td>\n",
       "      <td>25-34</td>\n",
       "      <td>phd</td>\n",
       "      <td>Tech</td>\n",
       "      <td>NaN</td>\n",
       "      <td>NaN</td>\n",
       "      <td>22.0</td>\n",
       "      <td>102200.0</td>\n",
       "      <td>6/19/2028</td>\n",
       "    </tr>\n",
       "    <tr>\n",
       "      <th>1997</th>\n",
       "      <td>NaN</td>\n",
       "      <td>35-44</td>\n",
       "      <td>masters</td>\n",
       "      <td>Education</td>\n",
       "      <td>NaN</td>\n",
       "      <td>low</td>\n",
       "      <td>NaN</td>\n",
       "      <td>31600.0</td>\n",
       "      <td>6/20/2028</td>\n",
       "    </tr>\n",
       "    <tr>\n",
       "      <th>1998</th>\n",
       "      <td>1</td>\n",
       "      <td>25-34</td>\n",
       "      <td>high school</td>\n",
       "      <td>Retail</td>\n",
       "      <td>Mumbai</td>\n",
       "      <td>HIGH</td>\n",
       "      <td>22.0</td>\n",
       "      <td>92500.0</td>\n",
       "      <td>6/21/2028</td>\n",
       "    </tr>\n",
       "    <tr>\n",
       "      <th>1999</th>\n",
       "      <td>0</td>\n",
       "      <td>25-34</td>\n",
       "      <td>high school</td>\n",
       "      <td>NaN</td>\n",
       "      <td>NaN</td>\n",
       "      <td>moderate</td>\n",
       "      <td>NaN</td>\n",
       "      <td>43300.0</td>\n",
       "      <td>6/22/2028</td>\n",
       "    </tr>\n",
       "  </tbody>\n",
       "</table>\n",
       "<p>2000 rows × 9 columns</p>\n",
       "</div>"
      ],
      "text/plain": [
       "     status age_group    education    industry   location   ai_risk  \\\n",
       "0         1     25-34  high school  Technology      Urban       NaN   \n",
       "1         1     18-24      diploma     Fintech      rural  moderate   \n",
       "2         1     25-34  high school      Retail      Delhi       Low   \n",
       "3         0     18-24      masters      Retail      Urban       Low   \n",
       "4       NaN     45-54      diploma     Fintech  Hyderabad       low   \n",
       "...     ...       ...          ...         ...        ...       ...   \n",
       "1995      1     25-34         ph.d     Finance  Hyderabad       Low   \n",
       "1996      1     25-34          phd       Tech         NaN       NaN   \n",
       "1997    NaN     35-44      masters   Education        NaN       low   \n",
       "1998      1     25-34  high school      Retail     Mumbai      HIGH   \n",
       "1999      0     25-34  high school         NaN        NaN  moderate   \n",
       "\n",
       "      years_of_experience  monthly_salary_(inr) date_recorded  \n",
       "0                     NaN               40700.0    01-01-2023  \n",
       "1                     NaN               17500.0    01-02-2023  \n",
       "2                    16.0               77600.0    01-03-2023  \n",
       "3                    30.0              100200.0    01-04-2023  \n",
       "4                     9.0               19500.0    01-05-2023  \n",
       "...                   ...                   ...           ...  \n",
       "1995                  NaN              113000.0     6/18/2028  \n",
       "1996                 22.0              102200.0     6/19/2028  \n",
       "1997                  NaN               31600.0     6/20/2028  \n",
       "1998                 22.0               92500.0     6/21/2028  \n",
       "1999                  NaN               43300.0     6/22/2028  \n",
       "\n",
       "[2000 rows x 9 columns]"
      ]
     },
     "execution_count": 16,
     "metadata": {},
     "output_type": "execute_result"
    }
   ],
   "source": [
    "df['education'] = df['education'].str.lower()\n",
    "df"
   ]
  },
  {
   "cell_type": "code",
   "execution_count": 17,
   "id": "e69ba4aa-f32d-4def-a80d-710c3c9d79bb",
   "metadata": {},
   "outputs": [
    {
     "data": {
      "text/plain": [
       "array(['high school', 'diploma', 'masters', 'phd', 'master', 'ph.d',\n",
       "       'bachelors', nan, \"bachelor's\"], dtype=object)"
      ]
     },
     "execution_count": 17,
     "metadata": {},
     "output_type": "execute_result"
    }
   ],
   "source": [
    "df['education'].unique()"
   ]
  },
  {
   "cell_type": "code",
   "execution_count": 18,
   "id": "dfd62554-bfb5-412f-bc51-793f24da2bd4",
   "metadata": {},
   "outputs": [
    {
     "data": {
      "text/plain": [
       "0       high_school\n",
       "1           diploma\n",
       "2       high_school\n",
       "3            master\n",
       "4           diploma\n",
       "           ...     \n",
       "1995            phd\n",
       "1996            phd\n",
       "1997         master\n",
       "1998    high_school\n",
       "1999    high_school\n",
       "Name: education, Length: 2000, dtype: object"
      ]
     },
     "execution_count": 18,
     "metadata": {},
     "output_type": "execute_result"
    }
   ],
   "source": [
    "df['education'] = df['education'].str.replace(' ','_').str.replace('masters','master').str.replace('.','').str.replace('bachelors','bachelor').str.replace(\"'s\",\"\")\n",
    "df['education']"
   ]
  },
  {
   "cell_type": "code",
   "execution_count": 19,
   "id": "03b32af4-eede-47a3-9195-8ed03590924b",
   "metadata": {},
   "outputs": [
    {
     "data": {
      "text/plain": [
       "array(['high_school', 'diploma', 'master', 'phd', 'bachelor', nan],\n",
       "      dtype=object)"
      ]
     },
     "execution_count": 19,
     "metadata": {},
     "output_type": "execute_result"
    }
   ],
   "source": [
    "df['education'].unique()"
   ]
  },
  {
   "cell_type": "code",
   "execution_count": 20,
   "id": "869166fa-c7aa-4fcc-b818-bc688e8befa6",
   "metadata": {},
   "outputs": [],
   "source": [
    "df['industry'] = df['industry'].str.lower()"
   ]
  },
  {
   "cell_type": "code",
   "execution_count": 21,
   "id": "c0d7b21e-c8e6-4714-8ad0-90bb4dd9b551",
   "metadata": {},
   "outputs": [
    {
     "data": {
      "text/plain": [
       "array(['technology', ' fintech', 'retail', 'tech ', nan, 'health',\n",
       "       'healthcare', 'education', 'finance'], dtype=object)"
      ]
     },
     "execution_count": 21,
     "metadata": {},
     "output_type": "execute_result"
    }
   ],
   "source": [
    "df['industry'].unique()"
   ]
  },
  {
   "cell_type": "code",
   "execution_count": 23,
   "id": "c6cdcf87-e844-412f-b624-407ed0217fd4",
   "metadata": {},
   "outputs": [
    {
     "data": {
      "text/plain": [
       "array(['tech', ' fintech', 'retail', 'tech ', nan, 'health', 'education',\n",
       "       'finance'], dtype=object)"
      ]
     },
     "execution_count": 23,
     "metadata": {},
     "output_type": "execute_result"
    }
   ],
   "source": [
    "df['industry'] = df['industry'].str.replace('technology','tech').str.replace('healthcare','health')\n",
    "df['industry'].unique()"
   ]
  },
  {
   "cell_type": "code",
   "execution_count": 24,
   "id": "d23057bc-23e9-4f37-b6f1-f6ec8b0af655",
   "metadata": {},
   "outputs": [
    {
     "data": {
      "text/plain": [
       "array(['Urban', 'rural', 'Delhi', 'Hyderabad', 'Bangalore', 'Mumbai', nan,\n",
       "       'urban', 'suburban', 'delhi'], dtype=object)"
      ]
     },
     "execution_count": 24,
     "metadata": {},
     "output_type": "execute_result"
    }
   ],
   "source": [
    "df['location'].unique()"
   ]
  },
  {
   "cell_type": "code",
   "execution_count": 26,
   "id": "e82bff7a-88cb-4a24-b1c7-45a0f7b7e48f",
   "metadata": {},
   "outputs": [
    {
     "name": "stdout",
     "output_type": "stream",
     "text": [
      "The history saving thread hit an unexpected error (OperationalError('attempt to write a readonly database')).History will not be written to the database.\n"
     ]
    },
    {
     "data": {
      "text/plain": [
       "array(['urban', 'rural', nan, 'suburban'], dtype=object)"
      ]
     },
     "execution_count": 26,
     "metadata": {},
     "output_type": "execute_result"
    }
   ],
   "source": [
    "df['location'] = df['location'].str.lower().str.replace('delhi','urban').str.replace('hyderabad','urban').str.replace('bangalore','urban').str.replace('mumbai','urban')\n",
    "df['location'].unique()"
   ]
  },
  {
   "cell_type": "code",
   "execution_count": 27,
   "id": "eb80abc1-6592-4439-a375-450efd73b0e8",
   "metadata": {},
   "outputs": [
    {
     "data": {
      "text/plain": [
       "array([nan, 'moderate', 'Low', 'low', 'HIGH', 'Medium', 'High'],\n",
       "      dtype=object)"
      ]
     },
     "execution_count": 27,
     "metadata": {},
     "output_type": "execute_result"
    }
   ],
   "source": [
    "df['ai_risk'].unique()"
   ]
  },
  {
   "cell_type": "code",
   "execution_count": 28,
   "id": "4b6e9dee-179a-4234-aa45-2d1d6810429f",
   "metadata": {},
   "outputs": [
    {
     "data": {
      "text/plain": [
       "array([nan, 'medium', 'low', 'high'], dtype=object)"
      ]
     },
     "execution_count": 28,
     "metadata": {},
     "output_type": "execute_result"
    }
   ],
   "source": [
    "df['ai_risk'] = df['ai_risk'].str.lower().str.replace('moderate','medium')\n",
    "df['ai_risk'].unique()"
   ]
  },
  {
   "cell_type": "code",
   "execution_count": 29,
   "id": "f9029882-7382-45fb-9797-2ec2d401f901",
   "metadata": {},
   "outputs": [
    {
     "data": {
      "text/plain": [
       "array([nan, 16., 30.,  9., 20., 28.,  0.,  3., 18.,  6.,  5., 24., 12.,\n",
       "       22., 15.,  2.,  8., 25., 10.,  1., 11.,  4., 17.,  7., 27., 26.,\n",
       "       21., 23., 19., 29., 14., 13.])"
      ]
     },
     "execution_count": 29,
     "metadata": {},
     "output_type": "execute_result"
    }
   ],
   "source": [
    "df['years_of_experience'].unique()"
   ]
  },
  {
   "cell_type": "code",
   "execution_count": 33,
   "id": "c56c2a7e-ecba-4154-b1a6-07f4e20221ce",
   "metadata": {},
   "outputs": [],
   "source": [
    "df['years_of_experience'] = df['years_of_experience'].fillna(0)"
   ]
  },
  {
   "cell_type": "code",
   "execution_count": 34,
   "id": "8aaf137b-86ed-45a6-a7bf-cceaf1d86e59",
   "metadata": {},
   "outputs": [
    {
     "data": {
      "text/html": [
       "<div>\n",
       "<style scoped>\n",
       "    .dataframe tbody tr th:only-of-type {\n",
       "        vertical-align: middle;\n",
       "    }\n",
       "\n",
       "    .dataframe tbody tr th {\n",
       "        vertical-align: top;\n",
       "    }\n",
       "\n",
       "    .dataframe thead th {\n",
       "        text-align: right;\n",
       "    }\n",
       "</style>\n",
       "<table border=\"1\" class=\"dataframe\">\n",
       "  <thead>\n",
       "    <tr style=\"text-align: right;\">\n",
       "      <th></th>\n",
       "      <th>status</th>\n",
       "      <th>age_group</th>\n",
       "      <th>education</th>\n",
       "      <th>industry</th>\n",
       "      <th>location</th>\n",
       "      <th>ai_risk</th>\n",
       "      <th>years_of_experience</th>\n",
       "      <th>monthly_salary_(inr)</th>\n",
       "      <th>date_recorded</th>\n",
       "    </tr>\n",
       "  </thead>\n",
       "  <tbody>\n",
       "    <tr>\n",
       "      <th>0</th>\n",
       "      <td>1</td>\n",
       "      <td>25-34</td>\n",
       "      <td>high_school</td>\n",
       "      <td>tech</td>\n",
       "      <td>urban</td>\n",
       "      <td>NaN</td>\n",
       "      <td>0.0</td>\n",
       "      <td>40700.0</td>\n",
       "      <td>01-01-2023</td>\n",
       "    </tr>\n",
       "    <tr>\n",
       "      <th>1</th>\n",
       "      <td>1</td>\n",
       "      <td>18-24</td>\n",
       "      <td>diploma</td>\n",
       "      <td>fintech</td>\n",
       "      <td>rural</td>\n",
       "      <td>medium</td>\n",
       "      <td>0.0</td>\n",
       "      <td>17500.0</td>\n",
       "      <td>01-02-2023</td>\n",
       "    </tr>\n",
       "    <tr>\n",
       "      <th>2</th>\n",
       "      <td>1</td>\n",
       "      <td>25-34</td>\n",
       "      <td>high_school</td>\n",
       "      <td>retail</td>\n",
       "      <td>urban</td>\n",
       "      <td>low</td>\n",
       "      <td>16.0</td>\n",
       "      <td>77600.0</td>\n",
       "      <td>01-03-2023</td>\n",
       "    </tr>\n",
       "    <tr>\n",
       "      <th>3</th>\n",
       "      <td>0</td>\n",
       "      <td>18-24</td>\n",
       "      <td>master</td>\n",
       "      <td>retail</td>\n",
       "      <td>urban</td>\n",
       "      <td>low</td>\n",
       "      <td>30.0</td>\n",
       "      <td>100200.0</td>\n",
       "      <td>01-04-2023</td>\n",
       "    </tr>\n",
       "    <tr>\n",
       "      <th>4</th>\n",
       "      <td>NaN</td>\n",
       "      <td>45-54</td>\n",
       "      <td>diploma</td>\n",
       "      <td>fintech</td>\n",
       "      <td>urban</td>\n",
       "      <td>low</td>\n",
       "      <td>9.0</td>\n",
       "      <td>19500.0</td>\n",
       "      <td>01-05-2023</td>\n",
       "    </tr>\n",
       "    <tr>\n",
       "      <th>...</th>\n",
       "      <td>...</td>\n",
       "      <td>...</td>\n",
       "      <td>...</td>\n",
       "      <td>...</td>\n",
       "      <td>...</td>\n",
       "      <td>...</td>\n",
       "      <td>...</td>\n",
       "      <td>...</td>\n",
       "      <td>...</td>\n",
       "    </tr>\n",
       "    <tr>\n",
       "      <th>1995</th>\n",
       "      <td>1</td>\n",
       "      <td>25-34</td>\n",
       "      <td>phd</td>\n",
       "      <td>finance</td>\n",
       "      <td>urban</td>\n",
       "      <td>low</td>\n",
       "      <td>0.0</td>\n",
       "      <td>113000.0</td>\n",
       "      <td>6/18/2028</td>\n",
       "    </tr>\n",
       "    <tr>\n",
       "      <th>1996</th>\n",
       "      <td>1</td>\n",
       "      <td>25-34</td>\n",
       "      <td>phd</td>\n",
       "      <td>tech</td>\n",
       "      <td>NaN</td>\n",
       "      <td>NaN</td>\n",
       "      <td>22.0</td>\n",
       "      <td>102200.0</td>\n",
       "      <td>6/19/2028</td>\n",
       "    </tr>\n",
       "    <tr>\n",
       "      <th>1997</th>\n",
       "      <td>NaN</td>\n",
       "      <td>35-44</td>\n",
       "      <td>master</td>\n",
       "      <td>education</td>\n",
       "      <td>NaN</td>\n",
       "      <td>low</td>\n",
       "      <td>0.0</td>\n",
       "      <td>31600.0</td>\n",
       "      <td>6/20/2028</td>\n",
       "    </tr>\n",
       "    <tr>\n",
       "      <th>1998</th>\n",
       "      <td>1</td>\n",
       "      <td>25-34</td>\n",
       "      <td>high_school</td>\n",
       "      <td>retail</td>\n",
       "      <td>urban</td>\n",
       "      <td>high</td>\n",
       "      <td>22.0</td>\n",
       "      <td>92500.0</td>\n",
       "      <td>6/21/2028</td>\n",
       "    </tr>\n",
       "    <tr>\n",
       "      <th>1999</th>\n",
       "      <td>0</td>\n",
       "      <td>25-34</td>\n",
       "      <td>high_school</td>\n",
       "      <td>NaN</td>\n",
       "      <td>NaN</td>\n",
       "      <td>medium</td>\n",
       "      <td>0.0</td>\n",
       "      <td>43300.0</td>\n",
       "      <td>6/22/2028</td>\n",
       "    </tr>\n",
       "  </tbody>\n",
       "</table>\n",
       "<p>2000 rows × 9 columns</p>\n",
       "</div>"
      ],
      "text/plain": [
       "     status age_group    education   industry location ai_risk  \\\n",
       "0         1     25-34  high_school       tech    urban     NaN   \n",
       "1         1     18-24      diploma    fintech    rural  medium   \n",
       "2         1     25-34  high_school     retail    urban     low   \n",
       "3         0     18-24       master     retail    urban     low   \n",
       "4       NaN     45-54      diploma    fintech    urban     low   \n",
       "...     ...       ...          ...        ...      ...     ...   \n",
       "1995      1     25-34          phd    finance    urban     low   \n",
       "1996      1     25-34          phd      tech       NaN     NaN   \n",
       "1997    NaN     35-44       master  education      NaN     low   \n",
       "1998      1     25-34  high_school     retail    urban    high   \n",
       "1999      0     25-34  high_school        NaN      NaN  medium   \n",
       "\n",
       "      years_of_experience  monthly_salary_(inr) date_recorded  \n",
       "0                     0.0               40700.0    01-01-2023  \n",
       "1                     0.0               17500.0    01-02-2023  \n",
       "2                    16.0               77600.0    01-03-2023  \n",
       "3                    30.0              100200.0    01-04-2023  \n",
       "4                     9.0               19500.0    01-05-2023  \n",
       "...                   ...                   ...           ...  \n",
       "1995                  0.0              113000.0     6/18/2028  \n",
       "1996                 22.0              102200.0     6/19/2028  \n",
       "1997                  0.0               31600.0     6/20/2028  \n",
       "1998                 22.0               92500.0     6/21/2028  \n",
       "1999                  0.0               43300.0     6/22/2028  \n",
       "\n",
       "[2000 rows x 9 columns]"
      ]
     },
     "execution_count": 34,
     "metadata": {},
     "output_type": "execute_result"
    }
   ],
   "source": [
    "df"
   ]
  },
  {
   "cell_type": "code",
   "execution_count": 44,
   "id": "bfa3276c-b354-4b28-a763-06a039cc730e",
   "metadata": {},
   "outputs": [
    {
     "data": {
      "text/html": [
       "<div>\n",
       "<style scoped>\n",
       "    .dataframe tbody tr th:only-of-type {\n",
       "        vertical-align: middle;\n",
       "    }\n",
       "\n",
       "    .dataframe tbody tr th {\n",
       "        vertical-align: top;\n",
       "    }\n",
       "\n",
       "    .dataframe thead th {\n",
       "        text-align: right;\n",
       "    }\n",
       "</style>\n",
       "<table border=\"1\" class=\"dataframe\">\n",
       "  <thead>\n",
       "    <tr style=\"text-align: right;\">\n",
       "      <th></th>\n",
       "      <th>status</th>\n",
       "      <th>age_group</th>\n",
       "      <th>education</th>\n",
       "      <th>industry</th>\n",
       "      <th>location</th>\n",
       "      <th>ai_risk</th>\n",
       "      <th>years_of_experience</th>\n",
       "      <th>monthly_salary_(inr)</th>\n",
       "      <th>date_recorded</th>\n",
       "    </tr>\n",
       "  </thead>\n",
       "  <tbody>\n",
       "    <tr>\n",
       "      <th>1</th>\n",
       "      <td>1</td>\n",
       "      <td>18-24</td>\n",
       "      <td>diploma</td>\n",
       "      <td>fintech</td>\n",
       "      <td>rural</td>\n",
       "      <td>medium</td>\n",
       "      <td>0.0</td>\n",
       "      <td>17500.0</td>\n",
       "      <td>02-01-23</td>\n",
       "    </tr>\n",
       "    <tr>\n",
       "      <th>2</th>\n",
       "      <td>1</td>\n",
       "      <td>25-34</td>\n",
       "      <td>high_school</td>\n",
       "      <td>retail</td>\n",
       "      <td>urban</td>\n",
       "      <td>low</td>\n",
       "      <td>16.0</td>\n",
       "      <td>77600.0</td>\n",
       "      <td>03-01-23</td>\n",
       "    </tr>\n",
       "    <tr>\n",
       "      <th>3</th>\n",
       "      <td>0</td>\n",
       "      <td>18-24</td>\n",
       "      <td>master</td>\n",
       "      <td>retail</td>\n",
       "      <td>urban</td>\n",
       "      <td>low</td>\n",
       "      <td>30.0</td>\n",
       "      <td>100200.0</td>\n",
       "      <td>04-01-23</td>\n",
       "    </tr>\n",
       "    <tr>\n",
       "      <th>5</th>\n",
       "      <td>0</td>\n",
       "      <td>25-34</td>\n",
       "      <td>phd</td>\n",
       "      <td>tech</td>\n",
       "      <td>urban</td>\n",
       "      <td>high</td>\n",
       "      <td>0.0</td>\n",
       "      <td>54500.0</td>\n",
       "      <td>06-01-23</td>\n",
       "    </tr>\n",
       "    <tr>\n",
       "      <th>11</th>\n",
       "      <td>0</td>\n",
       "      <td>45-54</td>\n",
       "      <td>high_school</td>\n",
       "      <td>tech</td>\n",
       "      <td>urban</td>\n",
       "      <td>high</td>\n",
       "      <td>0.0</td>\n",
       "      <td>27000.0</td>\n",
       "      <td>12-01-23</td>\n",
       "    </tr>\n",
       "    <tr>\n",
       "      <th>...</th>\n",
       "      <td>...</td>\n",
       "      <td>...</td>\n",
       "      <td>...</td>\n",
       "      <td>...</td>\n",
       "      <td>...</td>\n",
       "      <td>...</td>\n",
       "      <td>...</td>\n",
       "      <td>...</td>\n",
       "      <td>...</td>\n",
       "    </tr>\n",
       "    <tr>\n",
       "      <th>1988</th>\n",
       "      <td>1</td>\n",
       "      <td>25-34</td>\n",
       "      <td>phd</td>\n",
       "      <td>health</td>\n",
       "      <td>urban</td>\n",
       "      <td>medium</td>\n",
       "      <td>26.0</td>\n",
       "      <td>49200.0</td>\n",
       "      <td>11-06-28</td>\n",
       "    </tr>\n",
       "    <tr>\n",
       "      <th>1990</th>\n",
       "      <td>0</td>\n",
       "      <td>18-24</td>\n",
       "      <td>phd</td>\n",
       "      <td>health</td>\n",
       "      <td>rural</td>\n",
       "      <td>medium</td>\n",
       "      <td>19.0</td>\n",
       "      <td>146200.0</td>\n",
       "      <td>13-06-28</td>\n",
       "    </tr>\n",
       "    <tr>\n",
       "      <th>1994</th>\n",
       "      <td>0</td>\n",
       "      <td>55-100</td>\n",
       "      <td>bachelor</td>\n",
       "      <td>education</td>\n",
       "      <td>urban</td>\n",
       "      <td>low</td>\n",
       "      <td>0.0</td>\n",
       "      <td>9000.0</td>\n",
       "      <td>17-06-28</td>\n",
       "    </tr>\n",
       "    <tr>\n",
       "      <th>1995</th>\n",
       "      <td>1</td>\n",
       "      <td>25-34</td>\n",
       "      <td>phd</td>\n",
       "      <td>finance</td>\n",
       "      <td>urban</td>\n",
       "      <td>low</td>\n",
       "      <td>0.0</td>\n",
       "      <td>113000.0</td>\n",
       "      <td>18-06-28</td>\n",
       "    </tr>\n",
       "    <tr>\n",
       "      <th>1998</th>\n",
       "      <td>1</td>\n",
       "      <td>25-34</td>\n",
       "      <td>high_school</td>\n",
       "      <td>retail</td>\n",
       "      <td>urban</td>\n",
       "      <td>high</td>\n",
       "      <td>22.0</td>\n",
       "      <td>92500.0</td>\n",
       "      <td>21-06-28</td>\n",
       "    </tr>\n",
       "  </tbody>\n",
       "</table>\n",
       "<p>759 rows × 9 columns</p>\n",
       "</div>"
      ],
      "text/plain": [
       "     status age_group    education   industry location ai_risk  \\\n",
       "1         1     18-24      diploma    fintech    rural  medium   \n",
       "2         1     25-34  high_school     retail    urban     low   \n",
       "3         0     18-24       master     retail    urban     low   \n",
       "5         0     25-34          phd      tech     urban    high   \n",
       "11        0     45-54  high_school       tech    urban    high   \n",
       "...     ...       ...          ...        ...      ...     ...   \n",
       "1988      1     25-34          phd     health    urban  medium   \n",
       "1990      0     18-24          phd     health    rural  medium   \n",
       "1994      0    55-100     bachelor  education    urban     low   \n",
       "1995      1     25-34          phd    finance    urban     low   \n",
       "1998      1     25-34  high_school     retail    urban    high   \n",
       "\n",
       "      years_of_experience  monthly_salary_(inr) date_recorded  \n",
       "1                     0.0               17500.0      02-01-23  \n",
       "2                    16.0               77600.0      03-01-23  \n",
       "3                    30.0              100200.0      04-01-23  \n",
       "5                     0.0               54500.0      06-01-23  \n",
       "11                    0.0               27000.0      12-01-23  \n",
       "...                   ...                   ...           ...  \n",
       "1988                 26.0               49200.0      11-06-28  \n",
       "1990                 19.0              146200.0      13-06-28  \n",
       "1994                  0.0                9000.0      17-06-28  \n",
       "1995                  0.0              113000.0      18-06-28  \n",
       "1998                 22.0               92500.0      21-06-28  \n",
       "\n",
       "[759 rows x 9 columns]"
      ]
     },
     "execution_count": 44,
     "metadata": {},
     "output_type": "execute_result"
    }
   ],
   "source": [
    "df.dropna()"
   ]
  },
  {
   "cell_type": "code",
   "execution_count": 45,
   "id": "13ea4452-717b-43ab-8091-7e1e90a8607d",
   "metadata": {},
   "outputs": [
    {
     "name": "stderr",
     "output_type": "stream",
     "text": [
      "/var/folders/02/srb2fnrs669c482y2nd5t01w0000gn/T/ipykernel_4459/441010442.py:1: SettingWithCopyWarning: \n",
      "A value is trying to be set on a copy of a slice from a DataFrame.\n",
      "Try using .loc[row_indexer,col_indexer] = value instead\n",
      "\n",
      "See the caveats in the documentation: https://pandas.pydata.org/pandas-docs/stable/user_guide/indexing.html#returning-a-view-versus-a-copy\n",
      "  df['date_recorded'] = df['date_recorded'].str.replace('/','-')\n"
     ]
    },
    {
     "ename": "ValueError",
     "evalue": "time data \"02-01-23\" doesn't match format \"%m-%d-%Y\", at position 0. You might want to try:\n    - passing `format` if your strings have a consistent format;\n    - passing `format='ISO8601'` if your strings are all ISO8601 but not necessarily in exactly the same format;\n    - passing `format='mixed'`, and the format will be inferred for each element individually. You might want to use `dayfirst` alongside this.",
     "output_type": "error",
     "traceback": [
      "\u001b[31m---------------------------------------------------------------------------\u001b[39m",
      "\u001b[31mValueError\u001b[39m                                Traceback (most recent call last)",
      "\u001b[36mCell\u001b[39m\u001b[36m \u001b[39m\u001b[32mIn[45]\u001b[39m\u001b[32m, line 2\u001b[39m\n\u001b[32m      1\u001b[39m df[\u001b[33m'\u001b[39m\u001b[33mdate_recorded\u001b[39m\u001b[33m'\u001b[39m] = df[\u001b[33m'\u001b[39m\u001b[33mdate_recorded\u001b[39m\u001b[33m'\u001b[39m].str.replace(\u001b[33m'\u001b[39m\u001b[33m/\u001b[39m\u001b[33m'\u001b[39m,\u001b[33m'\u001b[39m\u001b[33m-\u001b[39m\u001b[33m'\u001b[39m)\n\u001b[32m----> \u001b[39m\u001b[32m2\u001b[39m df[\u001b[33m'\u001b[39m\u001b[33mdate_recorded\u001b[39m\u001b[33m'\u001b[39m] = \u001b[43mpd\u001b[49m\u001b[43m.\u001b[49m\u001b[43mto_datetime\u001b[49m\u001b[43m(\u001b[49m\u001b[43mdf\u001b[49m\u001b[43m[\u001b[49m\u001b[33;43m'\u001b[39;49m\u001b[33;43mdate_recorded\u001b[39;49m\u001b[33;43m'\u001b[39;49m\u001b[43m]\u001b[49m\u001b[43m,\u001b[49m\u001b[43m \u001b[49m\u001b[38;5;28;43mformat\u001b[39;49m\u001b[43m=\u001b[49m\u001b[33;43m'\u001b[39;49m\u001b[33;43m%\u001b[39;49m\u001b[33;43mm-\u001b[39;49m\u001b[38;5;132;43;01m%d\u001b[39;49;00m\u001b[33;43m-\u001b[39;49m\u001b[33;43m%\u001b[39;49m\u001b[33;43mY\u001b[39;49m\u001b[33;43m'\u001b[39;49m\u001b[43m)\u001b[49m\n\u001b[32m      3\u001b[39m df[\u001b[33m'\u001b[39m\u001b[33mdate_recorded\u001b[39m\u001b[33m'\u001b[39m] = df[\u001b[33m'\u001b[39m\u001b[33mdate_recorded\u001b[39m\u001b[33m'\u001b[39m].dt.strftime(\u001b[33m'\u001b[39m\u001b[38;5;132;01m%d\u001b[39;00m\u001b[33m-\u001b[39m\u001b[33m%\u001b[39m\u001b[33mm-\u001b[39m\u001b[33m%\u001b[39m\u001b[33my\u001b[39m\u001b[33m'\u001b[39m)\n\u001b[32m      4\u001b[39m df\n",
      "\u001b[36mFile \u001b[39m\u001b[32m~/Desktop/Probation/Probation-Project-25/my_virtual_env/lib/python3.13/site-packages/pandas/core/tools/datetimes.py:1072\u001b[39m, in \u001b[36mto_datetime\u001b[39m\u001b[34m(arg, errors, dayfirst, yearfirst, utc, format, exact, unit, infer_datetime_format, origin, cache)\u001b[39m\n\u001b[32m   1070\u001b[39m         result = arg.map(cache_array)\n\u001b[32m   1071\u001b[39m     \u001b[38;5;28;01melse\u001b[39;00m:\n\u001b[32m-> \u001b[39m\u001b[32m1072\u001b[39m         values = \u001b[43mconvert_listlike\u001b[49m\u001b[43m(\u001b[49m\u001b[43marg\u001b[49m\u001b[43m.\u001b[49m\u001b[43m_values\u001b[49m\u001b[43m,\u001b[49m\u001b[43m \u001b[49m\u001b[38;5;28;43mformat\u001b[39;49m\u001b[43m)\u001b[49m\n\u001b[32m   1073\u001b[39m         result = arg._constructor(values, index=arg.index, name=arg.name)\n\u001b[32m   1074\u001b[39m \u001b[38;5;28;01melif\u001b[39;00m \u001b[38;5;28misinstance\u001b[39m(arg, (ABCDataFrame, abc.MutableMapping)):\n",
      "\u001b[36mFile \u001b[39m\u001b[32m~/Desktop/Probation/Probation-Project-25/my_virtual_env/lib/python3.13/site-packages/pandas/core/tools/datetimes.py:435\u001b[39m, in \u001b[36m_convert_listlike_datetimes\u001b[39m\u001b[34m(arg, format, name, utc, unit, errors, dayfirst, yearfirst, exact)\u001b[39m\n\u001b[32m    433\u001b[39m \u001b[38;5;66;03m# `format` could be inferred, or user didn't ask for mixed-format parsing.\u001b[39;00m\n\u001b[32m    434\u001b[39m \u001b[38;5;28;01mif\u001b[39;00m \u001b[38;5;28mformat\u001b[39m \u001b[38;5;129;01mis\u001b[39;00m \u001b[38;5;129;01mnot\u001b[39;00m \u001b[38;5;28;01mNone\u001b[39;00m \u001b[38;5;129;01mand\u001b[39;00m \u001b[38;5;28mformat\u001b[39m != \u001b[33m\"\u001b[39m\u001b[33mmixed\u001b[39m\u001b[33m\"\u001b[39m:\n\u001b[32m--> \u001b[39m\u001b[32m435\u001b[39m     \u001b[38;5;28;01mreturn\u001b[39;00m \u001b[43m_array_strptime_with_fallback\u001b[49m\u001b[43m(\u001b[49m\u001b[43marg\u001b[49m\u001b[43m,\u001b[49m\u001b[43m \u001b[49m\u001b[43mname\u001b[49m\u001b[43m,\u001b[49m\u001b[43m \u001b[49m\u001b[43mutc\u001b[49m\u001b[43m,\u001b[49m\u001b[43m \u001b[49m\u001b[38;5;28;43mformat\u001b[39;49m\u001b[43m,\u001b[49m\u001b[43m \u001b[49m\u001b[43mexact\u001b[49m\u001b[43m,\u001b[49m\u001b[43m \u001b[49m\u001b[43merrors\u001b[49m\u001b[43m)\u001b[49m\n\u001b[32m    437\u001b[39m result, tz_parsed = objects_to_datetime64(\n\u001b[32m    438\u001b[39m     arg,\n\u001b[32m    439\u001b[39m     dayfirst=dayfirst,\n\u001b[32m   (...)\u001b[39m\u001b[32m    443\u001b[39m     allow_object=\u001b[38;5;28;01mTrue\u001b[39;00m,\n\u001b[32m    444\u001b[39m )\n\u001b[32m    446\u001b[39m \u001b[38;5;28;01mif\u001b[39;00m tz_parsed \u001b[38;5;129;01mis\u001b[39;00m \u001b[38;5;129;01mnot\u001b[39;00m \u001b[38;5;28;01mNone\u001b[39;00m:\n\u001b[32m    447\u001b[39m     \u001b[38;5;66;03m# We can take a shortcut since the datetime64 numpy array\u001b[39;00m\n\u001b[32m    448\u001b[39m     \u001b[38;5;66;03m# is in UTC\u001b[39;00m\n",
      "\u001b[36mFile \u001b[39m\u001b[32m~/Desktop/Probation/Probation-Project-25/my_virtual_env/lib/python3.13/site-packages/pandas/core/tools/datetimes.py:469\u001b[39m, in \u001b[36m_array_strptime_with_fallback\u001b[39m\u001b[34m(arg, name, utc, fmt, exact, errors)\u001b[39m\n\u001b[32m    458\u001b[39m \u001b[38;5;28;01mdef\u001b[39;00m\u001b[38;5;250m \u001b[39m\u001b[34m_array_strptime_with_fallback\u001b[39m(\n\u001b[32m    459\u001b[39m     arg,\n\u001b[32m    460\u001b[39m     name,\n\u001b[32m   (...)\u001b[39m\u001b[32m    464\u001b[39m     errors: \u001b[38;5;28mstr\u001b[39m,\n\u001b[32m    465\u001b[39m ) -> Index:\n\u001b[32m    466\u001b[39m \u001b[38;5;250m    \u001b[39m\u001b[33;03m\"\"\"\u001b[39;00m\n\u001b[32m    467\u001b[39m \u001b[33;03m    Call array_strptime, with fallback behavior depending on 'errors'.\u001b[39;00m\n\u001b[32m    468\u001b[39m \u001b[33;03m    \"\"\"\u001b[39;00m\n\u001b[32m--> \u001b[39m\u001b[32m469\u001b[39m     result, tz_out = \u001b[43marray_strptime\u001b[49m\u001b[43m(\u001b[49m\u001b[43marg\u001b[49m\u001b[43m,\u001b[49m\u001b[43m \u001b[49m\u001b[43mfmt\u001b[49m\u001b[43m,\u001b[49m\u001b[43m \u001b[49m\u001b[43mexact\u001b[49m\u001b[43m=\u001b[49m\u001b[43mexact\u001b[49m\u001b[43m,\u001b[49m\u001b[43m \u001b[49m\u001b[43merrors\u001b[49m\u001b[43m=\u001b[49m\u001b[43merrors\u001b[49m\u001b[43m,\u001b[49m\u001b[43m \u001b[49m\u001b[43mutc\u001b[49m\u001b[43m=\u001b[49m\u001b[43mutc\u001b[49m\u001b[43m)\u001b[49m\n\u001b[32m    470\u001b[39m     \u001b[38;5;28;01mif\u001b[39;00m tz_out \u001b[38;5;129;01mis\u001b[39;00m \u001b[38;5;129;01mnot\u001b[39;00m \u001b[38;5;28;01mNone\u001b[39;00m:\n\u001b[32m    471\u001b[39m         unit = np.datetime_data(result.dtype)[\u001b[32m0\u001b[39m]\n",
      "\u001b[36mFile \u001b[39m\u001b[32mpandas/_libs/tslibs/strptime.pyx:501\u001b[39m, in \u001b[36mpandas._libs.tslibs.strptime.array_strptime\u001b[39m\u001b[34m()\u001b[39m\n",
      "\u001b[36mFile \u001b[39m\u001b[32mpandas/_libs/tslibs/strptime.pyx:451\u001b[39m, in \u001b[36mpandas._libs.tslibs.strptime.array_strptime\u001b[39m\u001b[34m()\u001b[39m\n",
      "\u001b[36mFile \u001b[39m\u001b[32mpandas/_libs/tslibs/strptime.pyx:583\u001b[39m, in \u001b[36mpandas._libs.tslibs.strptime._parse_with_format\u001b[39m\u001b[34m()\u001b[39m\n",
      "\u001b[31mValueError\u001b[39m: time data \"02-01-23\" doesn't match format \"%m-%d-%Y\", at position 0. You might want to try:\n    - passing `format` if your strings have a consistent format;\n    - passing `format='ISO8601'` if your strings are all ISO8601 but not necessarily in exactly the same format;\n    - passing `format='mixed'`, and the format will be inferred for each element individually. You might want to use `dayfirst` alongside this."
     ]
    }
   ],
   "source": [
    "df['date_recorded'] = df['date_recorded'].str.replace('/','-')\n",
    "df['date_recorded'] = pd.to_datetime(df['date_recorded'], format='%m-%d-%Y')\n",
    "df['date_recorded'] = df['date_recorded'].dt.strftime('%d-%m-%y')\n",
    "df"
   ]
  },
  {
   "cell_type": "code",
   "execution_count": null,
   "id": "f1b5ba9d-3f17-4e58-9b58-7cc4d606d586",
   "metadata": {},
   "outputs": [],
   "source": []
  }
 ],
 "metadata": {
  "kernelspec": {
   "display_name": "abhay",
   "language": "python",
   "name": "abhay"
  },
  "language_info": {
   "codemirror_mode": {
    "name": "ipython",
    "version": 3
   },
   "file_extension": ".py",
   "mimetype": "text/x-python",
   "name": "python",
   "nbconvert_exporter": "python",
   "pygments_lexer": "ipython3",
   "version": "3.13.3"
  }
 },
 "nbformat": 4,
 "nbformat_minor": 5
}
